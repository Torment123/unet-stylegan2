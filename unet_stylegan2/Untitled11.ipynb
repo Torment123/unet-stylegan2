{
 "cells": [
  {
   "cell_type": "code",
   "execution_count": 2,
   "metadata": {},
   "outputs": [],
   "source": [
    "from functools import partial\n",
    "import math\n",
    "from math import log2\n",
    "image_size = 128\n",
    "fmap_max = 512\n",
    "num_layers = int(log2(image_size) - 3)\n",
    "num_init_filters = 3\n",
    "\n",
    "blocks = []\n",
    "filters = [num_init_filters] + [(16) * (2 ** i) for i in range(num_layers + 1)]\n",
    "\n",
    "set_fmap_max = partial(min, fmap_max)\n",
    "filters = list(map(set_fmap_max, filters))\n",
    "filters[-1] = filters[-2]\n",
    "\n",
    "chan_in_out = list(zip(filters[:-1], filters[1:]))\n",
    "chan_in_out = list(map(list, chan_in_out))"
   ]
  },
  {
   "cell_type": "code",
   "execution_count": 3,
   "metadata": {},
   "outputs": [
    {
     "data": {
      "text/plain": [
       "[[3, 16], [16, 32], [32, 64], [64, 128], [128, 128]]"
      ]
     },
     "execution_count": 3,
     "metadata": {},
     "output_type": "execute_result"
    }
   ],
   "source": [
    "chan_in_out"
   ]
  },
  {
   "cell_type": "code",
   "execution_count": null,
   "metadata": {},
   "outputs": [],
   "source": []
  }
 ],
 "metadata": {
  "kernelspec": {
   "display_name": "Python 3",
   "language": "python",
   "name": "python3"
  },
  "language_info": {
   "codemirror_mode": {
    "name": "ipython",
    "version": 3
   },
   "file_extension": ".py",
   "mimetype": "text/x-python",
   "name": "python",
   "nbconvert_exporter": "python",
   "pygments_lexer": "ipython3",
   "version": "3.7.9"
  }
 },
 "nbformat": 4,
 "nbformat_minor": 4
}
