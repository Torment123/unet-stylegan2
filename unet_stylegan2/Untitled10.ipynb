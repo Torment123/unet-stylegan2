{
 "cells": [
  {
   "cell_type": "code",
   "execution_count": 1,
   "metadata": {},
   "outputs": [],
   "source": [
    "import torch"
   ]
  },
  {
   "cell_type": "code",
   "execution_count": 2,
   "metadata": {},
   "outputs": [],
   "source": [
    "A = torch.rand(3,3,2)"
   ]
  },
  {
   "cell_type": "code",
   "execution_count": 3,
   "metadata": {},
   "outputs": [],
   "source": [
    "A = A.cuda()"
   ]
  },
  {
   "cell_type": "code",
   "execution_count": 4,
   "metadata": {},
   "outputs": [
    {
     "data": {
      "text/plain": [
       "tensor([[[0.5833, 0.8990],\n",
       "         [0.6506, 0.9681],\n",
       "         [0.9872, 0.9497]],\n",
       "\n",
       "        [[0.8509, 0.2025],\n",
       "         [0.5252, 0.9414],\n",
       "         [0.0821, 0.4635]],\n",
       "\n",
       "        [[0.5888, 0.2138],\n",
       "         [0.2013, 0.1550],\n",
       "         [0.6109, 0.9588]]], device='cuda:0')"
      ]
     },
     "execution_count": 4,
     "metadata": {},
     "output_type": "execute_result"
    }
   ],
   "source": [
    "A"
   ]
  },
  {
   "cell_type": "code",
   "execution_count": 5,
   "metadata": {},
   "outputs": [],
   "source": [
    "def function(A):\n",
    "    A = A + 1\n",
    "    "
   ]
  },
  {
   "cell_type": "code",
   "execution_count": 6,
   "metadata": {},
   "outputs": [],
   "source": [
    "function(A)"
   ]
  },
  {
   "cell_type": "code",
   "execution_count": 7,
   "metadata": {},
   "outputs": [
    {
     "data": {
      "text/plain": [
       "tensor([[[0.5833, 0.8990],\n",
       "         [0.6506, 0.9681],\n",
       "         [0.9872, 0.9497]],\n",
       "\n",
       "        [[0.8509, 0.2025],\n",
       "         [0.5252, 0.9414],\n",
       "         [0.0821, 0.4635]],\n",
       "\n",
       "        [[0.5888, 0.2138],\n",
       "         [0.2013, 0.1550],\n",
       "         [0.6109, 0.9588]]], device='cuda:0')"
      ]
     },
     "execution_count": 7,
     "metadata": {},
     "output_type": "execute_result"
    }
   ],
   "source": [
    "A"
   ]
  },
  {
   "cell_type": "code",
   "execution_count": 8,
   "metadata": {},
   "outputs": [],
   "source": [
    "A = torch.rand(3,3,2)"
   ]
  },
  {
   "cell_type": "code",
   "execution_count": 9,
   "metadata": {},
   "outputs": [],
   "source": [
    "A = A.cuda()"
   ]
  },
  {
   "cell_type": "code",
   "execution_count": 10,
   "metadata": {},
   "outputs": [],
   "source": [
    "B = A.clone()"
   ]
  },
  {
   "cell_type": "code",
   "execution_count": 11,
   "metadata": {},
   "outputs": [],
   "source": [
    "B += 1"
   ]
  },
  {
   "cell_type": "code",
   "execution_count": 12,
   "metadata": {},
   "outputs": [
    {
     "data": {
      "text/plain": [
       "tensor([[[1.8620, 1.7534],\n",
       "         [1.1694, 1.5440],\n",
       "         [1.3240, 1.3831]],\n",
       "\n",
       "        [[1.4217, 1.5780],\n",
       "         [1.7640, 1.7840],\n",
       "         [1.3578, 1.1776]],\n",
       "\n",
       "        [[1.0631, 1.5424],\n",
       "         [1.5002, 1.0253],\n",
       "         [1.6499, 1.1699]]], device='cuda:0')"
      ]
     },
     "execution_count": 12,
     "metadata": {},
     "output_type": "execute_result"
    }
   ],
   "source": [
    "B"
   ]
  },
  {
   "cell_type": "code",
   "execution_count": 13,
   "metadata": {},
   "outputs": [
    {
     "data": {
      "text/plain": [
       "tensor([[[0.8620, 0.7534],\n",
       "         [0.1694, 0.5440],\n",
       "         [0.3240, 0.3831]],\n",
       "\n",
       "        [[0.4217, 0.5780],\n",
       "         [0.7640, 0.7840],\n",
       "         [0.3578, 0.1776]],\n",
       "\n",
       "        [[0.0631, 0.5424],\n",
       "         [0.5002, 0.0253],\n",
       "         [0.6499, 0.1699]]], device='cuda:0')"
      ]
     },
     "execution_count": 13,
     "metadata": {},
     "output_type": "execute_result"
    }
   ],
   "source": [
    "getattr"
   ]
  },
  {
   "cell_type": "code",
   "execution_count": null,
   "metadata": {},
   "outputs": [],
   "source": []
  }
 ],
 "metadata": {
  "kernelspec": {
   "display_name": "Python 3",
   "language": "python",
   "name": "python3"
  },
  "language_info": {
   "codemirror_mode": {
    "name": "ipython",
    "version": 3
   },
   "file_extension": ".py",
   "mimetype": "text/x-python",
   "name": "python",
   "nbconvert_exporter": "python",
   "pygments_lexer": "ipython3",
   "version": "3.7.9"
  }
 },
 "nbformat": 4,
 "nbformat_minor": 4
}
